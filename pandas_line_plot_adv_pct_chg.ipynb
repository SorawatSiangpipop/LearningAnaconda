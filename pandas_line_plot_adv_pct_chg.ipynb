{
 "cells": [
  {
   "cell_type": "markdown",
   "metadata": {},
   "source": [
    "# การสร้างกราฟเส้นหลายเส้นด้วย pandas"
   ]
  },
  {
   "cell_type": "code",
   "execution_count": 1,
   "metadata": {},
   "outputs": [],
   "source": [
    "import pandas as pd\n",
    "import matplotlib.pyplot as plt\n",
    "from matplotlib.ticker import FuncFormatter # for custom number format on x and y axis\n",
    "%matplotlib inline\n",
    "%config InlineBackend.figure_format = 'retina'"
   ]
  },
  {
   "cell_type": "code",
   "execution_count": 2,
   "metadata": {},
   "outputs": [
    {
     "name": "stdout",
     "output_type": "stream",
     "text": [
      "pandas version: 0.24.2\n"
     ]
    }
   ],
   "source": [
    "print(f'pandas version: {pd.__version__}')"
   ]
  },
  {
   "cell_type": "code",
   "execution_count": 3,
   "metadata": {},
   "outputs": [],
   "source": [
    "pd.set_option('display.max_rows', 10)"
   ]
  },
  {
   "cell_type": "code",
   "execution_count": 4,
   "metadata": {
    "scrolled": true
   },
   "outputs": [
    {
     "data": {
      "text/html": [
       "<div>\n",
       "<style scoped>\n",
       "    .dataframe tbody tr th:only-of-type {\n",
       "        vertical-align: middle;\n",
       "    }\n",
       "\n",
       "    .dataframe tbody tr th {\n",
       "        vertical-align: top;\n",
       "    }\n",
       "\n",
       "    .dataframe thead th {\n",
       "        text-align: right;\n",
       "    }\n",
       "</style>\n",
       "<table border=\"1\" class=\"dataframe\">\n",
       "  <thead>\n",
       "    <tr style=\"text-align: right;\">\n",
       "      <th></th>\n",
       "      <th>Oil</th>\n",
       "      <th>Gold</th>\n",
       "      <th>SET</th>\n",
       "    </tr>\n",
       "    <tr>\n",
       "      <th>Date</th>\n",
       "      <th></th>\n",
       "      <th></th>\n",
       "      <th></th>\n",
       "    </tr>\n",
       "  </thead>\n",
       "  <tbody>\n",
       "    <tr>\n",
       "      <th>2003-01-31</th>\n",
       "      <td>30.71</td>\n",
       "      <td>356.859</td>\n",
       "      <td>370.01</td>\n",
       "    </tr>\n",
       "    <tr>\n",
       "      <th>2003-02-28</th>\n",
       "      <td>32.63</td>\n",
       "      <td>358.970</td>\n",
       "      <td>361.32</td>\n",
       "    </tr>\n",
       "    <tr>\n",
       "      <th>2003-03-31</th>\n",
       "      <td>27.22</td>\n",
       "      <td>340.550</td>\n",
       "      <td>364.55</td>\n",
       "    </tr>\n",
       "    <tr>\n",
       "      <th>2003-04-30</th>\n",
       "      <td>23.72</td>\n",
       "      <td>328.180</td>\n",
       "      <td>374.63</td>\n",
       "    </tr>\n",
       "    <tr>\n",
       "      <th>2003-05-31</th>\n",
       "      <td>26.71</td>\n",
       "      <td>355.683</td>\n",
       "      <td>403.82</td>\n",
       "    </tr>\n",
       "    <tr>\n",
       "      <th>...</th>\n",
       "      <td>...</td>\n",
       "      <td>...</td>\n",
       "      <td>...</td>\n",
       "    </tr>\n",
       "    <tr>\n",
       "      <th>2017-12-31</th>\n",
       "      <td>64.47</td>\n",
       "      <td>1264.450</td>\n",
       "      <td>1753.71</td>\n",
       "    </tr>\n",
       "    <tr>\n",
       "      <th>2018-01-31</th>\n",
       "      <td>66.28</td>\n",
       "      <td>1331.300</td>\n",
       "      <td>1826.86</td>\n",
       "    </tr>\n",
       "    <tr>\n",
       "      <th>2018-02-28</th>\n",
       "      <td>63.97</td>\n",
       "      <td>1330.730</td>\n",
       "      <td>1830.13</td>\n",
       "    </tr>\n",
       "    <tr>\n",
       "      <th>2018-03-31</th>\n",
       "      <td>65.87</td>\n",
       "      <td>1324.660</td>\n",
       "      <td>1776.26</td>\n",
       "    </tr>\n",
       "    <tr>\n",
       "      <th>2018-04-30</th>\n",
       "      <td>71.01</td>\n",
       "      <td>1334.760</td>\n",
       "      <td>1780.11</td>\n",
       "    </tr>\n",
       "  </tbody>\n",
       "</table>\n",
       "<p>184 rows × 3 columns</p>\n",
       "</div>"
      ],
      "text/plain": [
       "              Oil      Gold      SET\n",
       "Date                                \n",
       "2003-01-31  30.71   356.859   370.01\n",
       "2003-02-28  32.63   358.970   361.32\n",
       "2003-03-31  27.22   340.550   364.55\n",
       "2003-04-30  23.72   328.180   374.63\n",
       "2003-05-31  26.71   355.683   403.82\n",
       "...           ...       ...      ...\n",
       "2017-12-31  64.47  1264.450  1753.71\n",
       "2018-01-31  66.28  1331.300  1826.86\n",
       "2018-02-28  63.97  1330.730  1830.13\n",
       "2018-03-31  65.87  1324.660  1776.26\n",
       "2018-04-30  71.01  1334.760  1780.11\n",
       "\n",
       "[184 rows x 3 columns]"
      ]
     },
     "execution_count": 4,
     "metadata": {},
     "output_type": "execute_result"
    }
   ],
   "source": [
    "df=pd.read_csv('https://github.com/prasertcbs/basic-dataset/raw/master/oil_gold_setindex.csv',\n",
    "                index_col='Date', parse_dates=True)\n",
    "df"
   ]
  },
  {
   "cell_type": "code",
   "execution_count": 5,
   "metadata": {},
   "outputs": [
    {
     "data": {
      "image/png": "[encoded data removed]",
      "text/plain": [
       "<Figure size 432x288 with 1 Axes>"
      ]
     },
     "metadata": {
      "image/png": {
       "height": 261,
       "width": 381
      },
      "needs_background": "light"
     },
     "output_type": "display_data"
    }
   ],
   "source": [
    "df[['Oil', 'Gold', 'SET']].plot(kind='line', color=['.6', 'gold', 'c']);"
   ]
  },
  {
   "cell_type": "markdown",
   "metadata": {},
   "source": [
    "## % change from previous period"
   ]
  },
  {
   "cell_type": "code",
   "execution_count": null,
   "metadata": {},
   "outputs": [],
   "source": [
    "df['oil_pct_chg']=df['Oil'].pct_change()\n",
    "df['gold_pct_chg']=df['Gold'].pct_change()\n",
    "df['set_pct_chg']=df['SET'].pct_change()"
   ]
  },
  {
   "cell_type": "code",
   "execution_count": null,
   "metadata": {},
   "outputs": [],
   "source": [
    "df"
   ]
  },
  {
   "cell_type": "code",
   "execution_count": null,
   "metadata": {},
   "outputs": [],
   "source": [
    "cols=['oil_pct_chg', 'gold_pct_chg', 'set_pct_chg']\n",
    "color=['.6', 'gold', 'c']"
   ]
  },
  {
   "cell_type": "code",
   "execution_count": null,
   "metadata": {
    "scrolled": true
   },
   "outputs": [],
   "source": [
    "df[cols].plot(kind='line', color=color);"
   ]
  },
  {
   "cell_type": "code",
   "execution_count": null,
   "metadata": {
    "scrolled": true
   },
   "outputs": [],
   "source": [
    "ax=df[cols].plot(kind='line', color=color)\n",
    "ax.axhline(0, color=\"green\", linestyle=\"--\", linewidth=.5);"
   ]
  },
  {
   "cell_type": "markdown",
   "metadata": {},
   "source": [
    "### add horizontal line & set figsize "
   ]
  },
  {
   "cell_type": "code",
   "execution_count": null,
   "metadata": {
    "scrolled": true
   },
   "outputs": [],
   "source": [
    "ax=df[cols].plot(kind='line', color=color, figsize=(12,5))\n",
    "ax.axhline(0, color=\"green\", linestyle=\"--\", linewidth=.5);"
   ]
  },
  {
   "cell_type": "markdown",
   "metadata": {},
   "source": [
    "### filter data"
   ]
  },
  {
   "cell_type": "code",
   "execution_count": null,
   "metadata": {
    "scrolled": false
   },
   "outputs": [],
   "source": [
    "ax=df.loc[::12, cols].plot(kind='line', color=color)\n",
    "ax.yaxis.set_major_formatter(FuncFormatter(lambda v, p: \"{:.02}%\".format(v * 100)));"
   ]
  },
  {
   "cell_type": "code",
   "execution_count": null,
   "metadata": {
    "scrolled": true
   },
   "outputs": [],
   "source": [
    "ax=df.loc['2017-01-31':, cols].plot(kind='line', color=color);\n",
    "ax.yaxis.set_major_formatter(FuncFormatter(lambda v, p: \"{:,.0f}%\".format(v * 100)));"
   ]
  },
  {
   "cell_type": "markdown",
   "metadata": {},
   "source": [
    "### subplots"
   ]
  },
  {
   "cell_type": "code",
   "execution_count": null,
   "metadata": {
    "scrolled": false
   },
   "outputs": [],
   "source": [
    "df[cols].plot(kind='line', subplots=True, color=color);"
   ]
  },
  {
   "cell_type": "code",
   "execution_count": null,
   "metadata": {
    "scrolled": true
   },
   "outputs": [],
   "source": [
    "df[['oil_pct_chg', 'gold_pct_chg', 'set_pct_chg']].plot(kind='line', \n",
    "                                                        subplots=True, \n",
    "                                                        figsize=(6, 8),\n",
    "                                                        color=color);"
   ]
  },
  {
   "cell_type": "code",
   "execution_count": null,
   "metadata": {
    "scrolled": true
   },
   "outputs": [],
   "source": [
    "df[cols].plot(kind='line',subplots=True, \n",
    "              sharey=True, \n",
    "              figsize=(12, 4), \n",
    "              layout=(1, 3), \n",
    "              color=color);"
   ]
  },
  {
   "cell_type": "markdown",
   "metadata": {},
   "source": [
    "## คำนวณ % การเปลี่ยนแปลงเทียบกับวันที่กำหนดเป็นฐาน"
   ]
  },
  {
   "cell_type": "code",
   "execution_count": null,
   "metadata": {},
   "outputs": [],
   "source": [
    "base_date = '2003-01-31'"
   ]
  },
  {
   "cell_type": "code",
   "execution_count": null,
   "metadata": {},
   "outputs": [],
   "source": [
    "df['Oil'].at[base_date]\n",
    "# df['Gold'].at[base_date]\n",
    "# df['SET'].at[base_date]"
   ]
  },
  {
   "cell_type": "code",
   "execution_count": null,
   "metadata": {},
   "outputs": [],
   "source": [
    "# df['Oil'].at[base_date]\n",
    "df['Gold'].at[base_date]\n",
    "# df['SET'].at[base_date]"
   ]
  },
  {
   "cell_type": "code",
   "execution_count": null,
   "metadata": {},
   "outputs": [],
   "source": [
    "df['oil_pct_diff'] = df['Oil'] / df['Oil'].at[base_date] - 1\n",
    "df['gold_pct_diff'] = df['Gold'] / df['Gold'].at[base_date] - 1\n",
    "df['set_pct_diff'] = df['SET'] / df['SET'].at[base_date] - 1\n",
    "df"
   ]
  },
  {
   "cell_type": "code",
   "execution_count": null,
   "metadata": {
    "scrolled": true
   },
   "outputs": [],
   "source": [
    "ax = df.loc[base_date:, ['oil_pct_diff', 'gold_pct_diff', 'set_pct_diff']].plot(kind='line', \n",
    "                                         figsize=(10,5),\n",
    "                                         color=['.4', 'gold', 'c'])\n",
    "ax.yaxis.set_major_formatter(FuncFormatter(lambda v, p: \"{:,.0f}%\".format(v * 100)));"
   ]
  },
  {
   "cell_type": "code",
   "execution_count": null,
   "metadata": {},
   "outputs": [],
   "source": [
    "Cols_2=['oil_pct_diff', 'gold_pct_diff', 'set_pct_diff']"
   ]
  },
  {
   "cell_type": "code",
   "execution_count": null,
   "metadata": {},
   "outputs": [],
   "source": [
    "ax = df.loc[base_date:, Cols_2].plot(kind='line', \n",
    "                                         figsize=(10,5),\n",
    "                                         color=['.4', 'gold', 'c'])\n",
    "ax.yaxis.set_major_formatter(FuncFormatter(lambda v, p: \"{:,.0f}%\".format(v * 100)));"
   ]
  },
  {
   "cell_type": "code",
   "execution_count": null,
   "metadata": {},
   "outputs": [],
   "source": []
  }
 ],
 "metadata": {
  "kernelspec": {
   "display_name": "Python 3",
   "language": "python",
   "name": "python3"
  },
  "language_info": {
   "codemirror_mode": {
    "name": "ipython",
    "version": 3
   },
   "file_extension": ".py",
   "mimetype": "text/x-python",
   "name": "python",
   "nbconvert_exporter": "python",
   "pygments_lexer": "ipython3",
   "version": "3.6.7"
  }
 },
 "nbformat": 4,
 "nbformat_minor": 2
}
