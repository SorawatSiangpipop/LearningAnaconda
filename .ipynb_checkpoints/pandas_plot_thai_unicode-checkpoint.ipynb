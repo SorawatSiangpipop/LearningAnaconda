{
 "cells": [
  {
   "cell_type": "code",
   "execution_count": 5,
   "metadata": {},
   "outputs": [],
   "source": [
    "import pandas as pd\n",
    "import matplotlib.pyplot as plt\n",
    "%matplotlib inline\n",
    "plt.rcParams['font.family']='Tahoma'\n",
    "plt.rcParams['font.size']=13"
   ]
  },
  {
   "cell_type": "code",
   "execution_count": 6,
   "metadata": {},
   "outputs": [],
   "source": [
    "pd.set_option('display.max_rows', 10)"
   ]
  },
  {
   "cell_type": "code",
   "execution_count": 7,
   "metadata": {},
   "outputs": [
    {
     "data": {
      "text/html": [
       "<div>\n",
       "<style scoped>\n",
       "    .dataframe tbody tr th:only-of-type {\n",
       "        vertical-align: middle;\n",
       "    }\n",
       "\n",
       "    .dataframe tbody tr th {\n",
       "        vertical-align: top;\n",
       "    }\n",
       "\n",
       "    .dataframe thead th {\n",
       "        text-align: right;\n",
       "    }\n",
       "</style>\n",
       "<table border=\"1\" class=\"dataframe\">\n",
       "  <thead>\n",
       "    <tr style=\"text-align: right;\">\n",
       "      <th></th>\n",
       "      <th>Year</th>\n",
       "      <th>Pop</th>\n",
       "    </tr>\n",
       "    <tr>\n",
       "      <th>Province</th>\n",
       "      <th></th>\n",
       "      <th></th>\n",
       "    </tr>\n",
       "  </thead>\n",
       "  <tbody>\n",
       "    <tr>\n",
       "      <th>กรุงเทพมหานคร</th>\n",
       "      <td>2556</td>\n",
       "      <td>5686252</td>\n",
       "    </tr>\n",
       "    <tr>\n",
       "      <th>นครราชสีมา</th>\n",
       "      <td>2556</td>\n",
       "      <td>2610164</td>\n",
       "    </tr>\n",
       "    <tr>\n",
       "      <th>อุบลราชธานี</th>\n",
       "      <td>2556</td>\n",
       "      <td>1836523</td>\n",
       "    </tr>\n",
       "    <tr>\n",
       "      <th>ขอนแก่น</th>\n",
       "      <td>2556</td>\n",
       "      <td>1781655</td>\n",
       "    </tr>\n",
       "    <tr>\n",
       "      <th>เชียงใหม่</th>\n",
       "      <td>2556</td>\n",
       "      <td>1666888</td>\n",
       "    </tr>\n",
       "    <tr>\n",
       "      <th>...</th>\n",
       "      <td>...</td>\n",
       "      <td>...</td>\n",
       "    </tr>\n",
       "    <tr>\n",
       "      <th>กรุงเทพมหานคร</th>\n",
       "      <td>2545</td>\n",
       "      <td>5782159</td>\n",
       "    </tr>\n",
       "    <tr>\n",
       "      <th>นครราชสีมา</th>\n",
       "      <td>2545</td>\n",
       "      <td>2581244</td>\n",
       "    </tr>\n",
       "    <tr>\n",
       "      <th>อุบลราชธานี</th>\n",
       "      <td>2545</td>\n",
       "      <td>1792774</td>\n",
       "    </tr>\n",
       "    <tr>\n",
       "      <th>ขอนแก่น</th>\n",
       "      <td>2545</td>\n",
       "      <td>1767643</td>\n",
       "    </tr>\n",
       "    <tr>\n",
       "      <th>เชียงใหม่</th>\n",
       "      <td>2545</td>\n",
       "      <td>1595855</td>\n",
       "    </tr>\n",
       "  </tbody>\n",
       "</table>\n",
       "<p>60 rows × 2 columns</p>\n",
       "</div>"
      ],
      "text/plain": [
       "               Year      Pop\n",
       "Province                    \n",
       "กรุงเทพมหานคร  2556  5686252\n",
       "นครราชสีมา     2556  2610164\n",
       "อุบลราชธานี    2556  1836523\n",
       "ขอนแก่น        2556  1781655\n",
       "เชียงใหม่      2556  1666888\n",
       "...             ...      ...\n",
       "กรุงเทพมหานคร  2545  5782159\n",
       "นครราชสีมา     2545  2581244\n",
       "อุบลราชธานี    2545  1792774\n",
       "ขอนแก่น        2545  1767643\n",
       "เชียงใหม่      2545  1595855\n",
       "\n",
       "[60 rows x 2 columns]"
      ]
     },
     "execution_count": 7,
     "metadata": {},
     "output_type": "execute_result"
    }
   ],
   "source": [
    "df=pd.read_csv('https://github.com/prasertcbs/tutorial/raw/master/thai_unicode.csv',\n",
    "              index_col='Province')\n",
    "df"
   ]
  },
  {
   "cell_type": "code",
   "execution_count": 12,
   "metadata": {},
   "outputs": [
    {
     "data": {
      "text/plain": [
       "(array([      0., 1000000., 2000000., 3000000., 4000000., 5000000.,\n",
       "        6000000.]), <a list of 7 Text xticklabel objects>)"
      ]
     },
     "execution_count": 12,
     "metadata": {},
     "output_type": "execute_result"
    },
    {
     "data": {
      "image/png": "[encoded data removed]",
      "text/plain": [
       "<Figure size 432x288 with 1 Axes>"
      ]
     },
     "metadata": {
      "needs_background": "light"
     },
     "output_type": "display_data"
    }
   ],
   "source": [
    "df[df.Year==2556]['Pop'].plot(kind='barh');\n",
    "plt.xticks(rotation=90)"
   ]
  },
  {
   "cell_type": "code",
   "execution_count": null,
   "metadata": {},
   "outputs": [],
   "source": []
  }
 ],
 "metadata": {
  "kernelspec": {
   "display_name": "Python 3",
   "language": "python",
   "name": "python3"
  },
  "language_info": {
   "codemirror_mode": {
    "name": "ipython",
    "version": 3
   },
   "file_extension": ".py",
   "mimetype": "text/x-python",
   "name": "python",
   "nbconvert_exporter": "python",
   "pygments_lexer": "ipython3",
   "version": "3.6.7"
  }
 },
 "nbformat": 4,
 "nbformat_minor": 2
}
